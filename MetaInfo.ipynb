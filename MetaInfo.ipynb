{
 "cells": [
  {
   "cell_type": "code",
   "execution_count": 3,
   "metadata": {},
   "outputs": [],
   "source": [
    "def Meta(cruise):\n",
    "    if cruise == 'A135_2020':\n",
    "        LonMin = -30; LonMax = 30; LatMin = -60; LatMax = -20; \n",
    "        floats = 'A13/2019_A13.5_Proposed_Floats';stations = 'False';\n",
    "        csig = 'A13.5'\n",
    "    elif cruise == 'Test':\n",
    "        LonMin = -30; LonMax = 30; LatMin = -60; LatMax = -20; \n",
    "        floats = 'test/Test.txt';stations = 'False';\n",
    "        csig = 'test'\n",
    "    return(LonMin,LonMax,LatMin,LatMax,floats,stations,csig)"
   ]
  },
  {
   "cell_type": "code",
   "execution_count": null,
   "metadata": {},
   "outputs": [],
   "source": []
  }
 ],
 "metadata": {
  "kernelspec": {
   "display_name": "Python 3",
   "language": "python",
   "name": "python3"
  },
  "language_info": {
   "codemirror_mode": {
    "name": "ipython",
    "version": 3
   },
   "file_extension": ".py",
   "mimetype": "text/x-python",
   "name": "python",
   "nbconvert_exporter": "python",
   "pygments_lexer": "ipython3",
   "version": "3.7.6"
  }
 },
 "nbformat": 4,
 "nbformat_minor": 4
}
